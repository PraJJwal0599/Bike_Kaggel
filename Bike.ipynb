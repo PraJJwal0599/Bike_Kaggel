{
 "cells": [
  {
   "cell_type": "code",
   "execution_count": 4,
   "id": "69c7fb95-8226-4cfa-a7ae-c96b49a6ee35",
   "metadata": {
    "tags": []
   },
   "outputs": [
    {
     "name": "stdout",
     "output_type": "stream",
     "text": [
      "Requirement already satisfied: scikit-learn in /opt/anaconda3/lib/python3.11/site-packages (1.2.2)\n",
      "Requirement already satisfied: numpy>=1.17.3 in /opt/anaconda3/lib/python3.11/site-packages (from scikit-learn) (1.26.4)\n",
      "Requirement already satisfied: scipy>=1.3.2 in /opt/anaconda3/lib/python3.11/site-packages (from scikit-learn) (1.11.4)\n",
      "Requirement already satisfied: joblib>=1.1.1 in /opt/anaconda3/lib/python3.11/site-packages (from scikit-learn) (1.2.0)\n",
      "Requirement already satisfied: threadpoolctl>=2.0.0 in /opt/anaconda3/lib/python3.11/site-packages (from scikit-learn) (2.2.0)\n",
      "Note: you may need to restart the kernel to use updated packages.\n"
     ]
    }
   ],
   "source": [
    "pip install scikit-learn"
   ]
  },
  {
   "cell_type": "code",
   "execution_count": 8,
   "id": "d2b78046-f326-492c-bdd4-825dcff86553",
   "metadata": {
    "tags": []
   },
   "outputs": [],
   "source": [
    "import pandas as pd\n",
    "import numpy as np\n",
    "import seaborn as sns\n",
    "import matplotlib.pyplot as plt\n",
    "from sklearn.model_selection import train_test_split\n",
    "from sklearn.ensemble import RandomForestRegressor\n",
    "from sklearn.metrics import mean_squared_error, r2_score"
   ]
  },
  {
   "cell_type": "code",
   "execution_count": 40,
   "id": "6f60155d-3e14-4ab6-b9af-406556254519",
   "metadata": {
    "tags": []
   },
   "outputs": [
    {
     "name": "stdout",
     "output_type": "stream",
     "text": [
      "              datetime  season  holiday  workingday  weather  temp   atemp  \\\n",
      "0  2011-01-01 00:00:00       1        0           0        1  9.84  14.395   \n",
      "1  2011-01-01 01:00:00       1        0           0        1  9.02  13.635   \n",
      "2  2011-01-01 02:00:00       1        0           0        1  9.02  13.635   \n",
      "3  2011-01-01 03:00:00       1        0           0        1  9.84  14.395   \n",
      "4  2011-01-01 04:00:00       1        0           0        1  9.84  14.395   \n",
      "\n",
      "   humidity  windspeed  casual  registered  count  \n",
      "0        81        0.0       3          13     16  \n",
      "1        80        0.0       8          32     40  \n",
      "2        80        0.0       5          27     32  \n",
      "3        75        0.0       3          10     13  \n",
      "4        75        0.0       0           1      1  \n",
      "<class 'pandas.core.frame.DataFrame'>\n",
      "RangeIndex: 10886 entries, 0 to 10885\n",
      "Data columns (total 12 columns):\n",
      " #   Column      Non-Null Count  Dtype  \n",
      "---  ------      --------------  -----  \n",
      " 0   datetime    10886 non-null  object \n",
      " 1   season      10886 non-null  int64  \n",
      " 2   holiday     10886 non-null  int64  \n",
      " 3   workingday  10886 non-null  int64  \n",
      " 4   weather     10886 non-null  int64  \n",
      " 5   temp        10886 non-null  float64\n",
      " 6   atemp       10886 non-null  float64\n",
      " 7   humidity    10886 non-null  int64  \n",
      " 8   windspeed   10886 non-null  float64\n",
      " 9   casual      10886 non-null  int64  \n",
      " 10  registered  10886 non-null  int64  \n",
      " 11  count       10886 non-null  int64  \n",
      "dtypes: float64(3), int64(8), object(1)\n",
      "memory usage: 1020.7+ KB\n",
      "None\n",
      "              datetime  season  holiday  workingday  weather   temp   atemp  \\\n",
      "0  2011-01-20 00:00:00       1        0           1        1  10.66  11.365   \n",
      "1  2011-01-20 01:00:00       1        0           1        1  10.66  13.635   \n",
      "2  2011-01-20 02:00:00       1        0           1        1  10.66  13.635   \n",
      "3  2011-01-20 03:00:00       1        0           1        1  10.66  12.880   \n",
      "4  2011-01-20 04:00:00       1        0           1        1  10.66  12.880   \n",
      "\n",
      "   humidity  windspeed  \n",
      "0        56    26.0027  \n",
      "1        56     0.0000  \n",
      "2        56     0.0000  \n",
      "3        56    11.0014  \n",
      "4        56    11.0014  \n",
      "<class 'pandas.core.frame.DataFrame'>\n",
      "RangeIndex: 6493 entries, 0 to 6492\n",
      "Data columns (total 9 columns):\n",
      " #   Column      Non-Null Count  Dtype  \n",
      "---  ------      --------------  -----  \n",
      " 0   datetime    6493 non-null   object \n",
      " 1   season      6493 non-null   int64  \n",
      " 2   holiday     6493 non-null   int64  \n",
      " 3   workingday  6493 non-null   int64  \n",
      " 4   weather     6493 non-null   int64  \n",
      " 5   temp        6493 non-null   float64\n",
      " 6   atemp       6493 non-null   float64\n",
      " 7   humidity    6493 non-null   int64  \n",
      " 8   windspeed   6493 non-null   float64\n",
      "dtypes: float64(3), int64(5), object(1)\n",
      "memory usage: 456.7+ KB\n",
      "None\n"
     ]
    }
   ],
   "source": [
    "train = pd.read_csv ('/Users/prajjwal/Library/CloudStorage/OneDrive-UniversityofAppliedSciencesEuropeGmbH(ehem.BiTSbtk)-Berlin,Hamburg,Iserlohn/Kaggel/bike-sharing-demand/train.csv')\n",
    "test = pd.read_csv ('/Users/prajjwal/Library/CloudStorage/OneDrive-UniversityofAppliedSciencesEuropeGmbH(ehem.BiTSbtk)-Berlin,Hamburg,Iserlohn/Kaggel/bike-sharing-demand/test.csv')\n",
    "\n",
    "print(train.head())\n",
    "print(train.info())\n",
    "print(test.head())\n",
    "print(test.info())"
   ]
  },
  {
   "cell_type": "code",
   "execution_count": 42,
   "id": "ab1a9f25-29ab-4576-b745-1d086196737a",
   "metadata": {
    "tags": []
   },
   "outputs": [
    {
     "name": "stdout",
     "output_type": "stream",
     "text": [
      "datetime      0\n",
      "season        0\n",
      "holiday       0\n",
      "workingday    0\n",
      "weather       0\n",
      "temp          0\n",
      "atemp         0\n",
      "humidity      0\n",
      "windspeed     0\n",
      "casual        0\n",
      "registered    0\n",
      "count         0\n",
      "dtype: int64\n",
      "datetime      0\n",
      "season        0\n",
      "holiday       0\n",
      "workingday    0\n",
      "weather       0\n",
      "temp          0\n",
      "atemp         0\n",
      "humidity      0\n",
      "windspeed     0\n",
      "dtype: int64\n"
     ]
    }
   ],
   "source": [
    "print(train.isnull().sum())\n",
    "print(test.isnull().sum())"
   ]
  },
  {
   "cell_type": "code",
   "execution_count": 48,
   "id": "c28f7b3f-4bfe-4e55-9f0b-232c93957f8d",
   "metadata": {
    "tags": []
   },
   "outputs": [
    {
     "name": "stdout",
     "output_type": "stream",
     "text": [
      "<class 'pandas.core.frame.DataFrame'>\n",
      "RangeIndex: 10886 entries, 0 to 10885\n",
      "Data columns (total 17 columns):\n",
      " #   Column      Non-Null Count  Dtype         \n",
      "---  ------      --------------  -----         \n",
      " 0   datetime    10886 non-null  datetime64[ns]\n",
      " 1   season      10886 non-null  int64         \n",
      " 2   holiday     10886 non-null  int64         \n",
      " 3   workingday  10886 non-null  int64         \n",
      " 4   weather     10886 non-null  int64         \n",
      " 5   temp        10886 non-null  float64       \n",
      " 6   atemp       10886 non-null  float64       \n",
      " 7   humidity    10886 non-null  int64         \n",
      " 8   windspeed   10886 non-null  float64       \n",
      " 9   casual      10886 non-null  int64         \n",
      " 10  registered  10886 non-null  int64         \n",
      " 11  count       10886 non-null  int64         \n",
      " 12  year        10886 non-null  int32         \n",
      " 13  month       10886 non-null  int32         \n",
      " 14  weekday     10886 non-null  int32         \n",
      " 15  day         10886 non-null  int32         \n",
      " 16  hour        10886 non-null  int32         \n",
      "dtypes: datetime64[ns](1), float64(3), int32(5), int64(8)\n",
      "memory usage: 1.2 MB\n",
      "None\n",
      "<class 'pandas.core.frame.DataFrame'>\n",
      "RangeIndex: 6493 entries, 0 to 6492\n",
      "Data columns (total 14 columns):\n",
      " #   Column      Non-Null Count  Dtype         \n",
      "---  ------      --------------  -----         \n",
      " 0   datetime    6493 non-null   datetime64[ns]\n",
      " 1   season      6493 non-null   int64         \n",
      " 2   holiday     6493 non-null   int64         \n",
      " 3   workingday  6493 non-null   int64         \n",
      " 4   weather     6493 non-null   int64         \n",
      " 5   temp        6493 non-null   float64       \n",
      " 6   atemp       6493 non-null   float64       \n",
      " 7   humidity    6493 non-null   int64         \n",
      " 8   windspeed   6493 non-null   float64       \n",
      " 9   year        6493 non-null   int32         \n",
      " 10  month       6493 non-null   int32         \n",
      " 11  weekday     6493 non-null   int32         \n",
      " 12  day         6493 non-null   int32         \n",
      " 13  hour        6493 non-null   int32         \n",
      "dtypes: datetime64[ns](1), float64(3), int32(5), int64(5)\n",
      "memory usage: 583.5 KB\n",
      "None\n"
     ]
    }
   ],
   "source": [
    "test['datetime'] = pd.to_datetime(test['datetime'])\n",
    "train['datetime'] = pd.to_datetime(train['datetime'])\n",
    "\n",
    "for df in [test,train]:\n",
    " df['year'] = df['datetime'].dt.year\n",
    " df['month'] = df['datetime'].dt.month\n",
    " df['weekday'] = df['datetime'].dt.weekday\n",
    " df['day'] = df['datetime'].dt.day\n",
    " df['hour'] = df['datetime'].dt.hour\n",
    "\n",
    "print(train.info())\n",
    "print(test.info())"
   ]
  },
  {
   "cell_type": "code",
   "execution_count": 50,
   "id": "8571428f-0040-4426-b451-9214b72c0754",
   "metadata": {
    "tags": []
   },
   "outputs": [],
   "source": [
    "hourly_weather_stats = train.groupby(['hour', 'weather'])['count'].mean().reset_index()\n",
    "hourly_weather_stats.rename(columns={'count': 'avg_hourly_weather_count'}, inplace=True)\n",
    "\n",
    "train = train.merge(hourly_weather_stats, on=['hour', 'weather'], how='left')\n",
    "test = test.merge(hourly_weather_stats, on=['hour', 'weather'], how='left')"
   ]
  },
  {
   "cell_type": "code",
   "execution_count": 52,
   "id": "49739b26-48ad-4f60-8858-60984d03c0a2",
   "metadata": {
    "tags": []
   },
   "outputs": [],
   "source": [
    "# Drop irrelevant columns for training\n",
    "X_train = train.drop(['datetime', 'casual', 'registered', 'count'], axis=1)\n",
    "y_train = train['count']\n",
    "\n",
    "# Prepare test features\n",
    "X_test = test.drop(['datetime'], axis=1)  # Keep datetime for final submission"
   ]
  },
  {
   "cell_type": "code",
   "execution_count": 86,
   "id": "1de752f9-16e1-4fa2-ad8f-568d7a327e86",
   "metadata": {
    "tags": []
   },
   "outputs": [
    {
     "name": "stdout",
     "output_type": "stream",
     "text": [
      "Training RMSE: 15.188728821556175\n"
     ]
    }
   ],
   "source": [
    "from sklearn.impute import SimpleImputer\n",
    "from sklearn.pipeline import make_pipeline\n",
    "\n",
    "# Create a SimpleImputer instance (mean strategy is used here)\n",
    "imputer = SimpleImputer(strategy='mean')\n",
    "X_test['avg_hourly_weather_count'] = imputer.fit_transform(X_test[['avg_hourly_weather_count']])\n",
    "\n",
    "# Initialize the model\n",
    "model = RandomForestRegressor(n_estimators=500, random_state=42)\n",
    "\n",
    "# Create a pipeline that first imputes the data, then fits the Random Forest model\n",
    "pipeline = make_pipeline(imputer, model)\n",
    "\n",
    "# Fit the pipeline on the training data\n",
    "pipeline.fit(X_train, y_train)\n",
    "\n",
    "# Predict using the trained model\n",
    "y_pred = pipeline.predict(X_test)\n",
    "rmse = mean_squared_error(y_train, y_train_pred, squared=False)\n",
    "print(f\"Training RMSE: {rmse}\")"
   ]
  },
  {
   "cell_type": "code",
   "execution_count": 88,
   "id": "4240df11-e793-465f-b8da-13333a8bf693",
   "metadata": {
    "tags": []
   },
   "outputs": [
    {
     "name": "stdout",
     "output_type": "stream",
     "text": [
      "season                      0\n",
      "holiday                     0\n",
      "workingday                  0\n",
      "weather                     0\n",
      "temp                        0\n",
      "atemp                       0\n",
      "humidity                    0\n",
      "windspeed                   0\n",
      "year                        0\n",
      "month                       0\n",
      "weekday                     0\n",
      "day                         0\n",
      "hour                        0\n",
      "avg_hourly_weather_count    0\n",
      "dtype: int64\n"
     ]
    }
   ],
   "source": [
    "print(pd.DataFrame(X_test).isnull().sum())"
   ]
  },
  {
   "cell_type": "code",
   "execution_count": 90,
   "id": "8bcb2cf8-53cd-46ff-97aa-4818ce432064",
   "metadata": {
    "tags": []
   },
   "outputs": [
    {
     "name": "stderr",
     "output_type": "stream",
     "text": [
      "/opt/anaconda3/lib/python3.11/site-packages/sklearn/base.py:432: UserWarning: X has feature names, but RandomForestRegressor was fitted without feature names\n",
      "  warnings.warn(\n"
     ]
    }
   ],
   "source": [
    "# Predict on test data\n",
    "test['count'] = model.predict(X_test)"
   ]
  },
  {
   "cell_type": "code",
   "execution_count": 92,
   "id": "183654d3-6d46-4857-9b44-faefe6698b04",
   "metadata": {
    "tags": []
   },
   "outputs": [],
   "source": [
    "# Create submission DataFrame\n",
    "submission = test[['datetime', 'count']]\n",
    "\n",
    "# Save to CSV\n",
    "submission.to_csv('submission.csv', index=False)"
   ]
  }
 ],
 "metadata": {
  "kernelspec": {
   "display_name": "Python 3 (ipykernel)",
   "language": "python",
   "name": "python3"
  },
  "language_info": {
   "codemirror_mode": {
    "name": "ipython",
    "version": 3
   },
   "file_extension": ".py",
   "mimetype": "text/x-python",
   "name": "python",
   "nbconvert_exporter": "python",
   "pygments_lexer": "ipython3",
   "version": "3.11.7"
  }
 },
 "nbformat": 4,
 "nbformat_minor": 5
}
